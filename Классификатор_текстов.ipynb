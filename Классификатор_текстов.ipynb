{
 "cells": [
  {
   "cell_type": "code",
   "execution_count": 1,
   "metadata": {
    "colab": {
     "base_uri": "https://localhost:8080/",
     "height": 34
    },
    "colab_type": "code",
    "id": "2ew7HTbPpCJH",
    "outputId": "1d1a30bb-a330-4133-96a4-b3e12ae562e8"
   },
   "outputs": [
    {
     "name": "stdout",
     "output_type": "stream",
     "text": [
      "2.3.0\n"
     ]
    }
   ],
   "source": [
    "import numpy as np\n",
    "import tensorflow as tf\n",
    "print(tf.__version__)\n",
    "import pandas as pd\n",
    "import matplotlib.pyplot as plt\n",
    "%matplotlib inline"
   ]
  },
  {
   "cell_type": "code",
   "execution_count": 2,
   "metadata": {},
   "outputs": [
    {
     "name": "stdout",
     "output_type": "stream",
     "text": [
      "Num GPUs Available:  1\n"
     ]
    },
    {
     "data": {
      "text/plain": [
       "'/device:GPU:0'"
      ]
     },
     "execution_count": 2,
     "metadata": {},
     "output_type": "execute_result"
    }
   ],
   "source": [
    "print(\"Num GPUs Available: \", len(tf.config.experimental.list_physical_devices('GPU')))\n",
    "tf.test.gpu_device_name()"
   ]
  },
  {
   "cell_type": "code",
   "execution_count": 3,
   "metadata": {
    "colab": {
     "base_uri": "https://localhost:8080/",
     "height": 173
    },
    "colab_type": "code",
    "id": "oG5u8VmPZd_I",
    "outputId": "17ba49ad-427d-4fe5-ea45-ca4d37e62101"
   },
   "outputs": [
    {
     "name": "stderr",
     "output_type": "stream",
     "text": [
      "C:\\ProgramData\\Anaconda3\\lib\\site-packages\\ipykernel_launcher.py:3: ParserWarning: Falling back to the 'python' engine because the 'c' engine does not support regex separators (separators > 1 char and different from '\\s+' are interpreted as regex); you can avoid this warning by specifying engine='python'.\n",
      "  This is separate from the ipykernel package so we can avoid doing imports until\n"
     ]
    },
    {
     "data": {
      "text/plain": [
       "0     Listening in to a conversation between his do...\n",
       "1     A brother and sister with a past incestuous r...\n",
       "2     As the bus empties the students for their fie...\n",
       "3     To help their unemployed father make ends mee...\n",
       "4     The film's title refers not only to the un-re...\n",
       "Name: 3, dtype: object"
      ]
     },
     "execution_count": 3,
     "metadata": {},
     "output_type": "execute_result"
    }
   ],
   "source": [
    "df_train = pd.read_csv('Genre_Classification_Dataset\\\\Genre Classification Dataset\\\\train_data.txt', sep=':::', encoding='utf8',header = None)\n",
    "\n",
    "train_data = df_train[3]\n",
    "train_labels = df_train[2]\n",
    "\n",
    "train_data.head()"
   ]
  },
  {
   "cell_type": "code",
   "execution_count": 4,
   "metadata": {
    "colab": {
     "base_uri": "https://localhost:8080/",
     "height": 221
    },
    "colab_type": "code",
    "id": "GVIxIBPtywz7",
    "outputId": "d3460eeb-d354-45a1-e786-70836d4b1ef1"
   },
   "outputs": [
    {
     "data": {
      "text/plain": [
       "0               drama \n",
       "1            thriller \n",
       "2               adult \n",
       "3               drama \n",
       "4               drama \n",
       "5         documentary \n",
       "6              comedy \n",
       "7               crime \n",
       "8          reality-tv \n",
       "9              horror \n",
       "10        documentary \n",
       "11              drama \n",
       "12        documentary \n",
       "13           thriller \n",
       "14              drama \n",
       "15              drama \n",
       "16             comedy \n",
       "17        documentary \n",
       "18              sport \n",
       "19          animation \n",
       "20              drama \n",
       "21             comedy \n",
       "22             comedy \n",
       "23              drama \n",
       "24             action \n",
       "25            fantasy \n",
       "26              short \n",
       "27             sci-fi \n",
       "28           thriller \n",
       "29        documentary \n",
       "             ...      \n",
       "54184          sci-fi \n",
       "54185     documentary \n",
       "54186          comedy \n",
       "54187      reality-tv \n",
       "54188           short \n",
       "54189         romance \n",
       "54190           drama \n",
       "54191           drama \n",
       "54192          horror \n",
       "54193          comedy \n",
       "54194           short \n",
       "54195     documentary \n",
       "54196           drama \n",
       "54197           drama \n",
       "54198           drama \n",
       "54199          comedy \n",
       "54200           drama \n",
       "54201         western \n",
       "54202     documentary \n",
       "54203         fantasy \n",
       "54204           short \n",
       "54205     documentary \n",
       "54206           music \n",
       "54207           drama \n",
       "54208          family \n",
       "54209          comedy \n",
       "54210          horror \n",
       "54211     documentary \n",
       "54212          comedy \n",
       "54213         history \n",
       "Name: 2, Length: 54214, dtype: object"
      ]
     },
     "execution_count": 4,
     "metadata": {},
     "output_type": "execute_result"
    }
   ],
   "source": [
    "train_labels"
   ]
  },
  {
   "cell_type": "code",
   "execution_count": 5,
   "metadata": {
    "colab": {
     "base_uri": "https://localhost:8080/",
     "height": 173
    },
    "colab_type": "code",
    "id": "qIaVO8q0f5H9",
    "outputId": "86a8bac6-7fed-4802-a06c-7465480de0b9"
   },
   "outputs": [
    {
     "name": "stderr",
     "output_type": "stream",
     "text": [
      "C:\\ProgramData\\Anaconda3\\lib\\site-packages\\ipykernel_launcher.py:1: ParserWarning: Falling back to the 'python' engine because the 'c' engine does not support regex separators (separators > 1 char and different from '\\s+' are interpreted as regex); you can avoid this warning by specifying engine='python'.\n",
      "  \"\"\"Entry point for launching an IPython kernel.\n"
     ]
    },
    {
     "data": {
      "text/plain": [
       "0     L.R. Brane loves his life - his car, his apar...\n",
       "1     Spain, March 1964: Quico is a very naughty ch...\n",
       "2     One year in the life of Albin and his family ...\n",
       "3     His father has died, he hasn't spoken with hi...\n",
       "4     Before he was known internationally as a mart...\n",
       "Name: 3, dtype: object"
      ]
     },
     "execution_count": 5,
     "metadata": {},
     "output_type": "execute_result"
    }
   ],
   "source": [
    "df = pd.read_csv('Genre_Classification_Dataset\\\\Genre Classification Dataset\\\\test_data_solution.txt', sep=':::', encoding='utf8',header = None)\n",
    "test_data = df[3]\n",
    "test_labels = df[2]\n",
    "test_data.head()"
   ]
  },
  {
   "cell_type": "code",
   "execution_count": 6,
   "metadata": {
    "colab": {
     "base_uri": "https://localhost:8080/",
     "height": 68
    },
    "colab_type": "code",
    "id": "wHM5EbQ8VQEZ",
    "outputId": "062430ac-de6c-48f5-b241-242d1efb1cf9"
   },
   "outputs": [
    {
     "name": "stderr",
     "output_type": "stream",
     "text": [
      "[nltk_data] Downloading package punkt to\n",
      "[nltk_data]     C:\\Users\\Leo\\AppData\\Roaming\\nltk_data...\n",
      "[nltk_data]   Package punkt is already up-to-date!\n"
     ]
    },
    {
     "data": {
      "text/plain": [
       "173191"
      ]
     },
     "execution_count": 6,
     "metadata": {},
     "output_type": "execute_result"
    }
   ],
   "source": [
    "from nltk.tokenize import word_tokenize\n",
    "from nltk import FreqDist\n",
    "\n",
    "import nltk\n",
    "nltk.download('punkt')\n",
    "all_words=' '.join(train_data)\n",
    "all_words=word_tokenize(all_words)\n",
    "dist=FreqDist(all_words)\n",
    "num_unique_word=len(dist)\n",
    "num_unique_word"
   ]
  },
  {
   "cell_type": "code",
   "execution_count": 7,
   "metadata": {
    "colab": {},
    "colab_type": "code",
    "id": "v9DravGpWHSy"
   },
   "outputs": [],
   "source": [
    "from keras.preprocessing.text import Tokenizer\n",
    "# из 173 оставим 15, иначе слишком долго обучать\n",
    "VOCAB_SIZE = 15000 \n",
    "tokenizer = Tokenizer(num_words=VOCAB_SIZE)\n",
    "tokenizer.fit_on_texts(list(train_data))\n",
    "X_train = tokenizer.texts_to_sequences(train_data)\n",
    "X_test = tokenizer.texts_to_sequences(test_data)"
   ]
  },
  {
   "cell_type": "code",
   "execution_count": 8,
   "metadata": {
    "colab": {
     "base_uri": "https://localhost:8080/",
     "height": 35
    },
    "colab_type": "code",
    "id": "FHkN3-GvdHH0",
    "outputId": "2f577b7a-de12-47f5-d32d-922e5490efe8"
   },
   "outputs": [
    {
     "data": {
      "text/plain": [
       "'his'"
      ]
     },
     "execution_count": 8,
     "metadata": {},
     "output_type": "execute_result"
    }
   ],
   "source": [
    "tokenizer.index_word[8]"
   ]
  },
  {
   "cell_type": "code",
   "execution_count": 9,
   "metadata": {
    "colab": {},
    "colab_type": "code",
    "id": "b_ZoAvF3Ycm7"
   },
   "outputs": [],
   "source": [
    "from keras.preprocessing import sequence,text\n",
    "MAX_SEQ_LEN = 250\n",
    "train_data = sequence.pad_sequences(X_train, \n",
    "                                    # padding='post',\n",
    "                                    maxlen=MAX_SEQ_LEN)\n",
    "test_data = sequence.pad_sequences(X_test, \n",
    "                                  #  padding='post',\n",
    "                                   maxlen=MAX_SEQ_LEN)\n"
   ]
  },
  {
   "cell_type": "code",
   "execution_count": null,
   "metadata": {
    "colab": {
     "base_uri": "https://localhost:8080/",
     "height": 221
    },
    "colab_type": "code",
    "id": "Ofj55ZKllpiU",
    "outputId": "8a47302f-8b3d-4714-99f5-ef99023a41e1",
    "scrolled": true
   },
   "outputs": [
    {
     "data": {
      "text/plain": [
       "0         9\n",
       "1        21\n",
       "2         2\n",
       "3         9\n",
       "4         9\n",
       "5         8\n",
       "6         6\n",
       "7         7\n",
       "8        19\n",
       "9        14\n",
       "10        8\n",
       "11        9\n",
       "12        8\n",
       "13       21\n",
       "14        9\n",
       "15        9\n",
       "16        6\n",
       "17        8\n",
       "18       24\n",
       "19        4\n",
       "20        9\n",
       "21        6\n",
       "22        6\n",
       "23        9\n",
       "24        1\n",
       "25       11\n",
       "26       23\n",
       "27       22\n",
       "28       21\n",
       "29        8\n",
       "         ..\n",
       "54184    22\n",
       "54185     8\n",
       "54186     6\n",
       "54187    19\n",
       "54188    23\n",
       "54189    20\n",
       "54190     9\n",
       "54191     9\n",
       "54192    14\n",
       "54193     6\n",
       "54194    23\n",
       "54195     8\n",
       "54196     9\n",
       "54197     9\n",
       "54198     9\n",
       "54199     6\n",
       "54200     9\n",
       "54201    27\n",
       "54202     8\n",
       "54203    11\n",
       "54204    23\n",
       "54205     8\n",
       "54206    15\n",
       "54207     9\n",
       "54208    10\n",
       "54209     6\n",
       "54210    14\n",
       "54211     8\n",
       "54212     6\n",
       "54213    13\n",
       "Name: 2, Length: 54214, dtype: int64"
      ]
     },
     "execution_count": 13,
     "metadata": {},
     "output_type": "execute_result"
    }
   ],
   "source": [
    "genre_mapping = {\n",
    "  ' UNKNOWN ':0,\n",
    "  ' action ':1,\n",
    "  ' adult ':2,\n",
    "  ' adventure ':3,\n",
    "  ' animation ':4,\n",
    "  ' biography ':5,\n",
    "  ' comedy ':6,\n",
    "  ' crime ':7,\n",
    "  ' documentary ':8,\n",
    "  ' drama ':9,\n",
    "  ' family ':10,\n",
    "  ' fantasy ':11,\n",
    "  ' game-show ':12,\n",
    "  ' history ':13,\n",
    "  ' horror ':14,\n",
    "  ' music ':15,\n",
    "  ' musical ':16,\n",
    "  ' mystery ':17,\n",
    "  ' news ':18,\n",
    "  ' reality-tv ':19,\n",
    "  ' romance ':20,\n",
    "  ' thriller ':21,\n",
    "  ' sci-fi ':22,\n",
    "  ' short ':23,\n",
    "  ' sport ':24,\n",
    "  ' talk-show ':25,\n",
    "  ' war ':26,\n",
    "  ' western ':27\n",
    "}\n",
    "genre_un_mapping = {\n",
    "  0:' UNKNOWN ',\n",
    "  1:' action ',\n",
    "  2:' adult ',\n",
    "  3:' adventure ',\n",
    "  4:' animation ',\n",
    "  5:' biography ',\n",
    "  6:' comedy ',\n",
    "  7:' crime ',\n",
    "  8:' documentary ',\n",
    "  9:' drama ',\n",
    "  10:' family ',\n",
    "  11:' fantasy ',\n",
    "  12:' game-show ',\n",
    "  13:' history ',\n",
    "  14:' horror ',\n",
    "  15:' music ',\n",
    "  16:' musical ',\n",
    "  17:' mystery ',\n",
    "  18:' news ',\n",
    "  19:' reality-tv ',\n",
    "  20:' romance ',\n",
    "  21:' thriller ',\n",
    "  22:' sci-fi ',\n",
    "  23:' short ',\n",
    "  24:' sport ',\n",
    "  25:' talk-show ',\n",
    "  26:' war ',\n",
    "  27:' western '\n",
    "}\n",
    "def genre_index(key):\n",
    "  return genre_mapping.get(key,0)\n",
    "train_labels = train_labels.apply(genre_index)\n",
    "test_labels = test_labels.apply(genre_index)\n",
    "train_labels"
   ]
  },
  {
   "cell_type": "code",
   "execution_count": null,
   "metadata": {
    "colab": {
     "base_uri": "https://localhost:8080/",
     "height": 462
    },
    "colab_type": "code",
    "id": "2jQv-omsHurp",
    "outputId": "767e16af-9ec9-4d23-9f0b-5b42c60d477a"
   },
   "outputs": [
    {
     "name": "stdout",
     "output_type": "stream",
     "text": [
      "Length examples: [250, 250]\n",
      " To help their unemployed father make ends meet, Edith and her twin sister Grace work as seamstresses . An invalid, Grace falls prey to the temptations of Chinatown opium and becomes an addict, a condition worsened by a misguided physician who prescribes morphine to ease her pain. When their father strikes oil, the family enjoys a new prosperity and the sisters meet the eligible Jack Herron, a fellow oil prospector. To Grace's shock, Jack falls in love with Edith and in her jealousy, Grace tells Jack that Edith, not she, has a drug problem. Hinting that her sister will soon need more morphine, Grace arranges for a dinner in Chinatown with the couple. While her sister and Jack dance, Grace slips away to an opium den. Edith follows her, but ends up in the wrong den and is arrested in an ensuing drug raid. After he bails her out of jail, Edith takes an angry Jack to search for Grace and stumbles across her half-conscious body lying in the street. The truth about the sisters is revealed, and after sending Grace to a sanitarium in the country, Jack and Edith are married.\n",
      "=====================================\n",
      "Entry example: [    0     0     0     0     0     0     0     0     0     0     0     0\n",
      "     0     0     0     0     0     0     0     0     0     0     0     0\n",
      "     0     0     0     0     0     0     0     0     0     0     0     0\n",
      "     0     0     0     0     0     0     0     0     0     0     0     0\n",
      "     0     0     0     0     0     0     0     0     0     0     0     0\n",
      "     0     0     0     0     0     0     5   116    16  2894    81    93\n",
      "   553   220  6727     2    10  1998   249  1817   106    15    18 10609\n",
      "  1817   265  4095     5     1  9638     4  7739 11923     2   157    18\n",
      "  4022     3  1502    17     3  7840  3998    20     5  6797    10  1143\n",
      "    31    16    81  2546  1650     1    53  4023     3    43  7111     2\n",
      "     1  1198   220     1 10405   450     3  1001  1650 11457     5 14985\n",
      "  2367   450   265     6    51     9  6727     2     6    10  2588  1817\n",
      "   194   450    13  6727    44    22    26     3   452   659    13    10\n",
      "   249    36   174   463    63  1817  4350    12     3  1791     6  7739\n",
      "     9     1   309    69    10   249     2   450   485  1817  6289   176\n",
      "     5    18 11923  4526  6727   201    10    25   553    41     6     1\n",
      "   651  4526     2     7  1085     6    18  6946   452  4293    45    11\n",
      "    10    40     4  1178  6727   107    18  1952   450     5   315    12\n",
      "  1817     2  3403   305    10   587  5162   390  3908     6     1   407\n",
      "     1   363    38     1  1198     7  1325     2    45  3761  1817     5\n",
      "     3 13100     6     1   188   450     2  6727    24   257]\n",
      "to help their unemployed father make ends meet edith and her twin sister grace work as an invalid grace falls prey to the temptations of chinatown opium and becomes an addict a condition by a misguided physician who to ease her pain when their father strikes oil the family enjoys a new prosperity and the sisters meet the eligible jack a fellow oil prospector to grace's shock jack falls in love with edith and in her jealousy grace tells jack that edith not she has a drug problem that her sister will soon need more grace arranges for a dinner in chinatown with the couple while her sister and jack dance grace slips away to an opium den edith follows her but ends up in the wrong den and is arrested in an ensuing drug raid after he her out of jail edith takes an angry jack to search for grace and stumbles across her half conscious body lying in the street the truth about the sisters is revealed and after sending grace to a sanitarium in the country jack and edith are married "
     ]
    }
   ],
   "source": [
    "# Посмотрим, что получилось\n",
    "\n",
    "print(\"Length examples: {}\".format([len(train_data[0]), len(train_data[1])]))\n",
    "print(df_train[3][3])\n",
    "print('=====================================')\n",
    "print(\"Entry example: {}\".format(train_data[3]))\n",
    "\n",
    "for i in train_data[3]:\n",
    "  if i!=0:\n",
    "    print(tokenizer.index_word[i],end = ' ')"
   ]
  },
  {
   "cell_type": "code",
   "execution_count": null,
   "metadata": {
    "colab": {},
    "colab_type": "code",
    "id": "bUPTX0_c4Qnn"
   },
   "outputs": [],
   "source": [
    "train_labels = tf.keras.utils.to_categorical(train_labels, 28)\n",
    "test_labels = tf.keras.utils.to_categorical(test_labels, 28)\n"
   ]
  },
  {
   "cell_type": "code",
   "execution_count": null,
   "metadata": {
    "colab": {},
    "colab_type": "code",
    "id": "xpKOoWgu-llD"
   },
   "outputs": [],
   "source": [
    "EMB_SIZE = 100 "
   ]
  },
  {
   "cell_type": "code",
   "execution_count": null,
   "metadata": {
    "colab": {
     "base_uri": "https://localhost:8080/",
     "height": 476
    },
    "colab_type": "code",
    "id": "jfcCzeJmb3TI",
    "outputId": "b29cad92-64fc-45ae-f34b-00b1439dafa3"
   },
   "outputs": [
    {
     "name": "stdout",
     "output_type": "stream",
     "text": [
      "WARNING:tensorflow:Layer lstm will not use cuDNN kernel since it doesn't meet the cuDNN kernel criteria. It will use generic GPU kernel as fallback when running on GPU\n",
      "WARNING:tensorflow:Layer lstm will not use cuDNN kernel since it doesn't meet the cuDNN kernel criteria. It will use generic GPU kernel as fallback when running on GPU\n",
      "WARNING:tensorflow:Layer lstm will not use cuDNN kernel since it doesn't meet the cuDNN kernel criteria. It will use generic GPU kernel as fallback when running on GPU\n",
      "WARNING:tensorflow:Layer lstm_1 will not use cuDNN kernel since it doesn't meet the cuDNN kernel criteria. It will use generic GPU kernel as fallback when running on GPU\n",
      "WARNING:tensorflow:Layer lstm_1 will not use cuDNN kernel since it doesn't meet the cuDNN kernel criteria. It will use generic GPU kernel as fallback when running on GPU\n",
      "WARNING:tensorflow:Layer lstm_1 will not use cuDNN kernel since it doesn't meet the cuDNN kernel criteria. It will use generic GPU kernel as fallback when running on GPU\n",
      "Model: \"sequential\"\n",
      "_________________________________________________________________\n",
      "Layer (type)                 Output Shape              Param #   \n",
      "=================================================================\n",
      "embedding (Embedding)        (None, None, 63)          945000    \n",
      "_________________________________________________________________\n",
      "bidirectional (Bidirectional (None, None, 128)         65536     \n",
      "_________________________________________________________________\n",
      "bidirectional_1 (Bidirection (None, 64)                41216     \n",
      "_________________________________________________________________\n",
      "dense (Dense)                (None, 28)                1820      \n",
      "=================================================================\n",
      "Total params: 1,053,572\n",
      "Trainable params: 1,053,572\n",
      "Non-trainable params: 0\n",
      "_________________________________________________________________\n"
     ]
    }
   ],
   "source": [
    "model=tf.keras.Sequential()\n",
    "model.add(tf.keras.layers.Embedding(VOCAB_SIZE,63,mask_zero=True))\n",
    "# model.add(tf.keras.layers.Bidirectional(tf.keras.layers.LSTM(128,dropout=0.4, recurrent_dropout=0.4,return_sequences=True)))\n",
    "model.add(tf.keras.layers.Bidirectional(tf.keras.layers.LSTM(64,dropout=0.5, recurrent_dropout=0.5,return_sequences=True)))\n",
    "model.add(tf.keras.layers.Bidirectional(tf.keras.layers.LSTM(32,dropout=0.6, recurrent_dropout=0.6,return_sequences=False)))\n",
    "model.add(tf.keras.layers.Dense(28,activation='softmax'))\n",
    "model.compile(loss='categorical_crossentropy',optimizer=tf.keras.optimizers.Adam(lr=0.001),metrics=['accuracy'])\n",
    "model.summary()"
   ]
  },
  {
   "cell_type": "code",
   "execution_count": null,
   "metadata": {
    "colab": {
     "base_uri": "https://localhost:8080/",
     "height": 34
    },
    "colab_type": "code",
    "id": "tXSGrjWZ-llW",
    "outputId": "c608bdb4-d29f-4062-dce0-e7f27325e48c",
    "scrolled": true
   },
   "outputs": [
    {
     "name": "stdout",
     "output_type": "stream",
     "text": [
      "Epoch 1/60\n",
      "20/20 [==============================] - 162s 8s/step - loss: 2.9225 - accuracy: 0.2269 - val_loss: 2.4232 - val_accuracy: 0.2419\n",
      "Epoch 2/60\n",
      "20/20 [==============================] - 162s 8s/step - loss: 2.3723 - accuracy: 0.2428 - val_loss: 2.3526 - val_accuracy: 0.2511\n",
      "Epoch 3/60\n",
      "11/20 [===============>..............] - ETA: 54s - loss: 2.3457 - accuracy: 0.2480"
     ]
    }
   ],
   "source": [
    "BATCH_SIZE = 512\n",
    "NUM_EPOCHS = 60\n",
    "\n",
    "history = model.fit(train_data,\n",
    "                    train_labels,\n",
    "                    epochs=NUM_EPOCHS,\n",
    "                    batch_size=BATCH_SIZE,\n",
    "                    steps_per_epoch=20,\n",
    "                    validation_data=(test_data, test_labels),\n",
    "                    verbose=1,\n",
    "                    )\n",
    "# history = model2.fit(test_data,\n",
    "#                     test_labels,\n",
    "#                     epochs=NUM_EPOCHS,\n",
    "#                     batch_size=BATCH_SIZE,\n",
    "#                     # steps_per_epoch=20,\n",
    "#                     validation_data=(train_data, train_labels),\n",
    "#                     verbose=1,\n",
    "#                     )"
   ]
  },
  {
   "cell_type": "code",
   "execution_count": null,
   "metadata": {
    "colab": {
     "base_uri": "https://localhost:8080/",
     "height": 68
    },
    "colab_type": "code",
    "id": "zOMKywn4zReN",
    "outputId": "8c7715b5-21e0-4846-a7fe-bccb65146893"
   },
   "outputs": [],
   "source": [
    "results = model.evaluate(test_data, test_labels)\n",
    "\n",
    "print('Test loss: {:.4f}'.format(results[0]))\n",
    "print('Test accuracy: {:.2f} %'.format(results[1]*100))"
   ]
  },
  {
   "cell_type": "code",
   "execution_count": null,
   "metadata": {
    "colab": {
     "base_uri": "https://localhost:8080/",
     "height": 233
    },
    "colab_type": "code",
    "id": "nGoYf2Js-lle",
    "outputId": "ae3a1456-b32d-421a-bc7c-e7455c057061",
    "scrolled": false
   },
   "outputs": [],
   "source": [
    "epochs = range(1, len(history.history['acc']) + 1)\n",
    "\n",
    "plt.figure()\n",
    "plt.plot(epochs, history.history['loss'], 'bo', label='Training loss')\n",
    "plt.plot(epochs, history.history['val_loss'], 'b', label='Validation loss')\n",
    "plt.title('Training and validation loss')\n",
    "plt.xlabel('Epochs')\n",
    "plt.ylabel('Loss')\n",
    "plt.legend()\n",
    "plt.grid()\n",
    "\n",
    "plt.figure()\n",
    "plt.plot(epochs, history.history['acc'], 'bo', label='Training acc')\n",
    "plt.plot(epochs, history.history['val_acc'], 'b', label='Validation acc')\n",
    "plt.title('Training and validation accuracy')\n",
    "plt.xlabel('Epochs')\n",
    "plt.ylabel('Accuracy')\n",
    "plt.legend()\n",
    "plt.grid()"
   ]
  },
  {
   "cell_type": "code",
   "execution_count": null,
   "metadata": {
    "colab": {},
    "colab_type": "code",
    "id": "ZGb2E-VSGkw9"
   },
   "outputs": [],
   "source": [
    "test_index = 159\n",
    "prediction = model.predict(test_data[test_index][None, :])\n",
    "print(df[3][test_index])\n",
    "print('pred',genre_un_mapping[prediction.argmax()])\n",
    "print('real',genre_un_mapping[test_labels[test_index].argmax()])"
   ]
  },
  {
   "cell_type": "code",
   "execution_count": null,
   "metadata": {
    "colab": {},
    "colab_type": "code",
    "id": "ElI4LD2ecvV2"
   },
   "outputs": [],
   "source": [
    "test_index = 119\n",
    "prediction = model.predict(test_data[test_index][None, :])\n",
    "print(df[3][test_index])\n",
    "print('pred',genre_un_mapping[prediction.argmax()])\n",
    "print('real',genre_un_mapping[test_labels[test_index].argmax()])"
   ]
  }
 ],
 "metadata": {
  "accelerator": "GPU",
  "colab": {
   "collapsed_sections": [],
   "name": "Копия блокнота \"Реализация и обучение классификатора текстов.ipynb\"",
   "provenance": [],
   "toc_visible": true
  },
  "kernelspec": {
   "display_name": "Python 3",
   "language": "python",
   "name": "python3"
  },
  "language_info": {
   "codemirror_mode": {
    "name": "ipython",
    "version": 3
   },
   "file_extension": ".py",
   "mimetype": "text/x-python",
   "name": "python",
   "nbconvert_exporter": "python",
   "pygments_lexer": "ipython3",
   "version": "3.7.3"
  }
 },
 "nbformat": 4,
 "nbformat_minor": 1
}
